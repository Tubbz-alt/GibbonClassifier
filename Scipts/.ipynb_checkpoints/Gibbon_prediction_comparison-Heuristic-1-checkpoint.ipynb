{
 "cells": [
  {
   "cell_type": "code",
   "execution_count": 1,
   "metadata": {},
   "outputs": [],
   "source": [
    "import numpy as np"
   ]
  },
  {
   "cell_type": "code",
   "execution_count": 2,
   "metadata": {},
   "outputs": [],
   "source": [
    "files = ['HGSM3B_0+1_20160321_054700','HGSM3B_0+1_20160307_055800',\n",
    "         'HGSM3B_0+1_20160308_055700','HGSM3B_0+1_20160309_055600',\n",
    "         'HGSM3B_0+1_20160316_055100','HGSM3B_0+1_20160311_055500',\n",
    "         'HGSM3B_0+1_20160304_060000',\n",
    "         'HGSM3B_0+1_20160322_054600','HGSM3B_0+1_20160323_054500']"
   ]
  },
  {
   "cell_type": "code",
   "execution_count": 68,
   "metadata": {},
   "outputs": [],
   "source": [
    "name = 'HGSM3B_0+1_20160307_055800_weights_augment_'"
   ]
  },
  {
   "cell_type": "code",
   "execution_count": 69,
   "metadata": {},
   "outputs": [],
   "source": [
    "weights = ['49855', '418527', '562776', '573762', '750255', '903788', '926820', '951572', '959736', '983922']"
   ]
  },
  {
   "cell_type": "code",
   "execution_count": 70,
   "metadata": {},
   "outputs": [],
   "source": [
    "files = []\n",
    "for i in range (0, 10):\n",
    "    files.append(name+str(weights[i])+str('.hdf5'))"
   ]
  },
  {
   "cell_type": "code",
   "execution_count": 71,
   "metadata": {},
   "outputs": [],
   "source": [
    "def get_components(values):\n",
    "    shifted = np.roll(values,1)\n",
    "    shifted[0] = 0\n",
    "    difference = shifted - values\n",
    "    shifted[difference < -5] = 0\n",
    "    \n",
    "    connected_component = []\n",
    "    i = 0\n",
    "    while i < len(shifted):\n",
    "        #print ('i', i)\n",
    "        if shifted[i] > 0:\n",
    "            component = []\n",
    "            j=0\n",
    "            while j < len(shifted)-i:\n",
    "                if shifted[i+j] > 0:\n",
    "                    component.append(shifted[i+j])\n",
    "                else:\n",
    "                    break\n",
    "                j = j + 1\n",
    "            connected_component.append(component)\n",
    "            i=i+j\n",
    "            \n",
    "        i = i+1\n",
    "        \n",
    "    return connected_component"
   ]
  },
  {
   "cell_type": "code",
   "execution_count": 72,
   "metadata": {},
   "outputs": [],
   "source": [
    "def get_connected_components(components, verbose):\n",
    "    gibbon_indices = []\n",
    "    for component in components:\n",
    "        if verbose:\n",
    "            print ('Start ',component[0])\n",
    "            print ('End ',component[-1]+10)\n",
    "        gibbon_indices.append([component[0],component[-1]+10])\n",
    "        \n",
    "    return gibbon_indices"
   ]
  },
  {
   "cell_type": "code",
   "execution_count": 73,
   "metadata": {},
   "outputs": [],
   "source": [
    "def fix_components(original_components, threshold):\n",
    "    \n",
    "    new_components=original_components.copy()\n",
    "    indices_to_remove = []\n",
    "    \n",
    "    for i in range (0,len(original_components)):\n",
    "        \n",
    "        current_component_start = original_components[i][0]\n",
    "        current_component_end = original_components[i][1]\n",
    "        \n",
    "        # Initialise to False\n",
    "        previous_valid = False\n",
    "        next_valid = False\n",
    "        \n",
    "        ## Don't check for the previous component\n",
    "        if i == 0:\n",
    "            next_component_start = original_components[i+1][0]\n",
    "            next_component_end = original_components[i+1][1]\n",
    "            \n",
    "            if abs(next_component_start-current_component_end) <= threshold:\n",
    "                continue\n",
    "        \n",
    "        ## Don't check for the next component\n",
    "        elif i == len(original_components)-1:\n",
    "            previous_component_start = original_components[i-1][0]\n",
    "            previous_component_end = original_components[i-1][1]\n",
    "            \n",
    "            if abs(previous_component_end-current_component_start) <= threshold:\n",
    "                continue\n",
    "            \n",
    "        else:\n",
    "            next_component_start = original_components[i+1][0]\n",
    "            next_component_end = original_components[i+1][1]\n",
    "            previous_component_start = original_components[i-1][0]\n",
    "            previous_component_end = original_components[i-1][1]            \n",
    "        \n",
    "            if abs(previous_component_end-current_component_start) <= threshold:\n",
    "                continue\n",
    "                \n",
    "            if abs(next_component_start-current_component_end) <= threshold:\n",
    "                continue\n",
    "                \n",
    "        indices_to_remove.append(i)\n",
    "        \n",
    "    indices_to_remove.reverse()\n",
    "    \n",
    "    for index in indices_to_remove:\n",
    "        del new_components [index]\n",
    "        \n",
    "    return new_components"
   ]
  },
  {
   "cell_type": "code",
   "execution_count": 74,
   "metadata": {},
   "outputs": [],
   "source": [
    "def check(preds):\n",
    "    \n",
    "    cleaned_components = []\n",
    "    \n",
    "    for component in preds:\n",
    "        #print()\n",
    "        #print (component)\n",
    "        #print('len',len(component))\n",
    "        \n",
    "        rolled = component - np.roll(component,1)\n",
    "        rolled[0] = 0\n",
    "        #print ('average', np.average(rolled))\n",
    "        \n",
    "        if len(component) < 25:\n",
    "            continue\n",
    "\n",
    "        if np.average(rolled) < 9 and len(component) > 30:\n",
    "            #print('add')\n",
    "            cleaned_components.append(component)\n",
    "            \n",
    "    return cleaned_components"
   ]
  },
  {
   "cell_type": "code",
   "execution_count": 75,
   "metadata": {},
   "outputs": [
    {
     "name": "stdout",
     "output_type": "stream",
     "text": [
      "27889\t179\t130\t602\n",
      "28344\t35\t274\t147\n",
      "27369\t67\t242\t1122\n",
      "27580\t82\t227\t911\n",
      "27955\t63\t246\t536\n",
      "27961\t98\t211\t530\n",
      "26751\t152\t157\t1740\n",
      "27502\t128\t181\t989\n",
      "28310\t63\t246\t181\n",
      "28227\t65\t244\t264\n"
     ]
    }
   ],
   "source": [
    "for file in files:\n",
    "    correct = np.loadtxt(file+'_correct.txt',delimiter = ',').astype(np.int64)\n",
    "    values = np.loadtxt(file+'_prediction.txt', delimiter = ',').astype(np.int64)\n",
    "    \n",
    "    #print (file)\n",
    "    \n",
    "    component_prediction = get_components(values)\n",
    "    component_correct = get_components(correct)\n",
    "    \n",
    "    #Added\n",
    "    predict_components = check(component_prediction)\n",
    "    predict_components = get_connected_components(component_prediction, 0)\n",
    "    predict_components = fix_components(predict_components, 10)\n",
    "    correct_components = get_connected_components(component_correct, 0)\n",
    "    \n",
    "    correct_set = set()\n",
    "    for component_correct in correct_components:\n",
    "        start_correct = component_correct[0]\n",
    "        end_correct = component_correct[1]\n",
    "        correct_set.update(range(start_correct, end_correct+1))\n",
    "\n",
    "    predict_set = set()\n",
    "    for component_predict in predict_components:\n",
    "        start_predict = component_predict[0]\n",
    "        end_predict = component_predict[1]\n",
    "        predict_set.update(range(start_predict, end_predict+1))\n",
    "\n",
    "    #print('+++++++++++++++')\n",
    "    #print(predict_set)\n",
    "    #print('+++++++++++++++')\n",
    "    #print(correct_set)\n",
    "    FN = len(correct_set  - correct_set.intersection(predict_set))\n",
    "    TP = len(correct_set.intersection(predict_set))\n",
    "    FP = len(predict_set - correct_set.intersection(predict_set))\n",
    "    TN = len(set(range(0,8*60*60)) - predict_set - correct_set.intersection(predict_set) - correct_set.intersection(predict_set) - correct_set  - correct_set.intersection(predict_set))\n",
    "\n",
    "    cm = np.asarray([[TN, FP],[FN, TP]])\n",
    "    #print (cm)\n",
    "\n",
    "    specificity = TN/(TN+FP)\n",
    "    sensitivity = TP/(FN+TP)\n",
    "\n",
    "    FPR = 1 - specificity\n",
    "    FNR = 1 - sensitivity\n",
    "    \n",
    "    #print (specificity)\n",
    "    #print(sensitivity)\n",
    "    #print(FPR)\n",
    "    #print(FNR)\n",
    "    \n",
    "    #print()\n",
    "    #print(str(specificity)+'\\t'+str(sensitivity)+'\\t'+str(FPR)+'\\t'+str(FNR))\n",
    "    print(str(TN)+'\\t'+str(TP)+'\\t'+str(FN)+'\\t'+str(FP))\n",
    "    #print('-------------------')"
   ]
  },
  {
   "cell_type": "code",
   "execution_count": null,
   "metadata": {},
   "outputs": [],
   "source": []
  },
  {
   "cell_type": "code",
   "execution_count": null,
   "metadata": {},
   "outputs": [],
   "source": []
  },
  {
   "cell_type": "code",
   "execution_count": null,
   "metadata": {},
   "outputs": [],
   "source": []
  },
  {
   "cell_type": "code",
   "execution_count": null,
   "metadata": {},
   "outputs": [],
   "source": []
  },
  {
   "cell_type": "code",
   "execution_count": null,
   "metadata": {},
   "outputs": [],
   "source": []
  },
  {
   "cell_type": "code",
   "execution_count": null,
   "metadata": {},
   "outputs": [],
   "source": []
  },
  {
   "cell_type": "code",
   "execution_count": null,
   "metadata": {},
   "outputs": [],
   "source": []
  },
  {
   "cell_type": "code",
   "execution_count": null,
   "metadata": {},
   "outputs": [],
   "source": []
  },
  {
   "cell_type": "code",
   "execution_count": null,
   "metadata": {},
   "outputs": [],
   "source": []
  },
  {
   "cell_type": "code",
   "execution_count": null,
   "metadata": {},
   "outputs": [],
   "source": []
  },
  {
   "cell_type": "code",
   "execution_count": null,
   "metadata": {},
   "outputs": [],
   "source": []
  },
  {
   "cell_type": "code",
   "execution_count": null,
   "metadata": {},
   "outputs": [],
   "source": []
  },
  {
   "cell_type": "code",
   "execution_count": null,
   "metadata": {},
   "outputs": [],
   "source": []
  },
  {
   "cell_type": "code",
   "execution_count": null,
   "metadata": {},
   "outputs": [],
   "source": []
  }
 ],
 "metadata": {
  "kernelspec": {
   "display_name": "Python 3",
   "language": "python",
   "name": "python3"
  },
  "language_info": {
   "codemirror_mode": {
    "name": "ipython",
    "version": 3
   },
   "file_extension": ".py",
   "mimetype": "text/x-python",
   "name": "python",
   "nbconvert_exporter": "python",
   "pygments_lexer": "ipython3",
   "version": "3.6.1"
  }
 },
 "nbformat": 4,
 "nbformat_minor": 2
}
