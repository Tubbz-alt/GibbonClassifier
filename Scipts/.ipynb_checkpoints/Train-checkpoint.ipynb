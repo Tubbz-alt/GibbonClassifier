{
 "cells": [
  {
   "cell_type": "markdown",
   "metadata": {},
   "source": [
    "# Training\n",
    "\n",
    "**Paper:** Automatic identification of Hainan Gibbon calls in passive acoustic recordings\n",
    "\n",
    "**Authors:** Emmanuel Dufourq, Ian Durbach, James Hansford, Sam Turvey, Amanda Hoepfner\n",
    "\n",
    "**Year:** March 2020\n",
    "\n",
    "**Repository:** https://github.com/emmanueldufourq/GibbonClassifier\n",
    "\n",
    "Train a CNN on the augmented spectrogram images. The model is defined in file 'CNN_Network.py'.\n",
    "\n",
    "The network takes image input of shape (128,188,1). Since there are usually a number of audio files used for training, these can be listed in the text file 'Training_Files.txt. Here a list of audio file names is provided (without extension). Each audio file listed in the training text file must first be processed using 'Extract_Audio' and 'Augmentation_Execution' notebooks so that the pickled spectrogram data is available.\n",
    "\n",
    "The corresponding calls and non-call data are read from the 'Augmented_Image_Data' folder one at a time and a message is displayed to the screen once read. The script creates the training features and targets for the CNN and beings training for a number of iterations 'number_iterations = 10'. On each iteration, the training data is used to a build a new model. Thus 'number_iterations' can be set to 1 to create 1 model, or X ot create X models. Each model will perform differently given that the weights in the CNN are randomly initially on each execution. The data is split into training and valdation.\n",
    "\n",
    "For each model which is trained, a unique ID is created (eg: 331841) and the weights of the best model are saved in the '/Experiments/' folder. The training and validation accuracy is displayed along with a confusion matrix on the validation data. The model's history is also saved for advanced Keras users. Another file is created which has stores the training and validation accuracy along with the time taken for the execution. The ID numbers can be used to match all the output files.\n",
    "\n",
    "In this example there are 7380 spectrograms (3690 gibbon and 3690 non-gibbon calls). The shape of X is (7380, 128, 188, 1) and Y is (7380, 2). The value of 2 is due to the fact that there are 2 classes and the labels have been encoded used 2 values [0,1] or [1,0] for gibbon and non-gibbon calls. This allows  the model to produce a probabilistic distribution over the two classes.\n",
    "\n",
    "The values of the batch size, number of epochs and class balance can be specified in 'Hyper_Parameters.py'. Primarily, the batch size and class balance should be unchanged. Changing the number of epochs will impact the training performance. Training too few epochs could result in a model which has not seen the data enough time to learn enough. The default value is set to 50 epochs.\n"
   ]
  },
  {
   "cell_type": "code",
   "execution_count": 1,
   "metadata": {
    "scrolled": true
   },
   "outputs": [
    {
     "name": "stderr",
     "output_type": "stream",
     "text": [
      "Using TensorFlow backend.\n",
      "/home/emmanuel/anaconda3/envs/gibbons-python/lib/python3.6/site-packages/sklearn/externals/joblib/__init__.py:15: DeprecationWarning: sklearn.externals.joblib is deprecated in 0.21 and will be removed in 0.23. Please import this functionality directly from joblib, which can be installed with: pip install joblib. If this warning is raised when loading pickled models, you may need to re-serialize those models with scikit-learn 0.21+.\n",
      "  warnings.warn(msg, category=DeprecationWarning)\n"
     ]
    }
   ],
   "source": [
    "from Train_Helper import *"
   ]
  },
  {
   "cell_type": "markdown",
   "metadata": {},
   "source": [
    "## Directories"
   ]
  },
  {
   "cell_type": "code",
   "execution_count": 2,
   "metadata": {},
   "outputs": [],
   "source": [
    "training_file = '../Training_Files.txt'\n",
    "training_folder = '../Augmented_Image_Data/'"
   ]
  },
  {
   "cell_type": "markdown",
   "metadata": {},
   "source": [
    "## Number of random training executions"
   ]
  },
  {
   "cell_type": "code",
   "execution_count": 3,
   "metadata": {},
   "outputs": [],
   "source": [
    "number_iterations = 1"
   ]
  },
  {
   "cell_type": "markdown",
   "metadata": {},
   "source": [
    "## Load and create the training features"
   ]
  },
  {
   "cell_type": "code",
   "execution_count": 4,
   "metadata": {
    "scrolled": false
   },
   "outputs": [
    {
     "name": "stdout",
     "output_type": "stream",
     "text": [
      "\n",
      "-----\n",
      "Reading file: HGSM3D_0+1_20160429_051600\n",
      "okay gibbon augmented HGSM3D_0+1_20160429_051600\n",
      "okay non-gibbon augmented HGSM3D_0+1_20160429_051600\n",
      "----------------------------------\n",
      "Gibbon features: (3690, 128, 188, 1)\n",
      "Non-gibbon features (3690, 128, 188, 1)\n"
     ]
    }
   ],
   "source": [
    "training_files = []\n",
    "gibbon_X, noise_X = load_training_images(training_folder, training_file)"
   ]
  },
  {
   "cell_type": "markdown",
   "metadata": {},
   "source": [
    "## Create the features and targets"
   ]
  },
  {
   "cell_type": "code",
   "execution_count": 5,
   "metadata": {},
   "outputs": [],
   "source": [
    "X, Y = prepare_X_and_Y(gibbon_X, noise_X)\n",
    "del gibbon_X, noise_X"
   ]
  },
  {
   "cell_type": "markdown",
   "metadata": {},
   "source": [
    "## Check shapes of X and Y"
   ]
  },
  {
   "cell_type": "code",
   "execution_count": 6,
   "metadata": {
    "scrolled": false
   },
   "outputs": [
    {
     "name": "stdout",
     "output_type": "stream",
     "text": [
      "Shape of X (7380, 128, 188, 1)\n",
      "Shape of Y (7380, 2)\n"
     ]
    }
   ],
   "source": [
    "print ('Shape of X', X.shape)\n",
    "print ('Shape of Y', Y.shape)"
   ]
  },
  {
   "cell_type": "markdown",
   "metadata": {},
   "source": [
    "## Begin training"
   ]
  },
  {
   "cell_type": "code",
   "execution_count": 7,
   "metadata": {},
   "outputs": [
    {
     "name": "stdout",
     "output_type": "stream",
     "text": [
      "Iteration 0 starting...\n",
      "experiment_id: 0\n",
      "X_train: (5904, 128, 188, 1)\n",
      "Y_train: (5904, 2)\n",
      "\n",
      "X_val: (1476, 128, 188, 1)\n",
      "Y_val: (1476, 2)\n",
      "_________________________________________________________________\n",
      "Layer (type)                 Output Shape              Param #   \n",
      "=================================================================\n",
      "conv2d_1 (Conv2D)            (None, 128, 188, 8)       136       \n",
      "_________________________________________________________________\n",
      "dropout_1 (Dropout)          (None, 128, 188, 8)       0         \n",
      "_________________________________________________________________\n",
      "max_pooling2d_1 (MaxPooling2 (None, 32, 47, 8)         0         \n",
      "_________________________________________________________________\n",
      "conv2d_2 (Conv2D)            (None, 32, 47, 16)        2064      \n",
      "_________________________________________________________________\n",
      "dropout_2 (Dropout)          (None, 32, 47, 16)        0         \n",
      "_________________________________________________________________\n",
      "max_pooling2d_2 (MaxPooling2 (None, 8, 11, 16)         0         \n",
      "_________________________________________________________________\n",
      "conv2d_3 (Conv2D)            (None, 8, 11, 16)         4112      \n",
      "_________________________________________________________________\n",
      "dropout_3 (Dropout)          (None, 8, 11, 16)         0         \n",
      "_________________________________________________________________\n",
      "max_pooling2d_3 (MaxPooling2 (None, 2, 2, 16)          0         \n",
      "_________________________________________________________________\n",
      "flatten_1 (Flatten)          (None, 64)                0         \n",
      "_________________________________________________________________\n",
      "dense_1 (Dense)              (None, 16)                1040      \n",
      "_________________________________________________________________\n",
      "dropout_4 (Dropout)          (None, 16)                0         \n",
      "_________________________________________________________________\n",
      "dense_2 (Dense)              (None, 2)                 34        \n",
      "=================================================================\n",
      "Total params: 7,386\n",
      "Trainable params: 7,386\n",
      "Non-trainable params: 0\n",
      "_________________________________________________________________\n",
      "Train on 5904 samples, validate on 1476 samples\n",
      "Epoch 1/50\n",
      " - 7s - loss: 0.5790 - acc: 0.6975 - val_loss: 0.4878 - val_acc: 0.8577\n",
      "\n",
      "Epoch 00001: val_acc improved from -inf to 0.85772, saving model to ../Experiments/weights_331841.hdf5\n",
      "Epoch 2/50\n",
      " - 4s - loss: 0.2852 - acc: 0.8952 - val_loss: 0.3080 - val_acc: 0.9438\n",
      "\n",
      "Epoch 00002: val_acc improved from 0.85772 to 0.94377, saving model to ../Experiments/weights_331841.hdf5\n",
      "Epoch 3/50\n",
      " - 4s - loss: 0.1581 - acc: 0.9509 - val_loss: 0.1904 - val_acc: 0.9519\n",
      "\n",
      "Epoch 00003: val_acc improved from 0.94377 to 0.95190, saving model to ../Experiments/weights_331841.hdf5\n",
      "Epoch 4/50\n",
      " - 4s - loss: 0.1257 - acc: 0.9612 - val_loss: 0.1325 - val_acc: 0.9810\n",
      "\n",
      "Epoch 00004: val_acc improved from 0.95190 to 0.98103, saving model to ../Experiments/weights_331841.hdf5\n",
      "Epoch 5/50\n",
      " - 4s - loss: 0.0812 - acc: 0.9724 - val_loss: 0.0938 - val_acc: 0.9885\n",
      "\n",
      "Epoch 00005: val_acc improved from 0.98103 to 0.98848, saving model to ../Experiments/weights_331841.hdf5\n",
      "Epoch 6/50\n",
      " - 4s - loss: 0.0697 - acc: 0.9776 - val_loss: 0.1365 - val_acc: 0.9519\n",
      "\n",
      "Epoch 00006: val_acc did not improve from 0.98848\n",
      "Epoch 7/50\n",
      " - 4s - loss: 0.0527 - acc: 0.9854 - val_loss: 0.0779 - val_acc: 0.9898\n",
      "\n",
      "Epoch 00007: val_acc improved from 0.98848 to 0.98984, saving model to ../Experiments/weights_331841.hdf5\n",
      "Epoch 8/50\n",
      " - 4s - loss: 0.0536 - acc: 0.9849 - val_loss: 0.1062 - val_acc: 0.9729\n",
      "\n",
      "Epoch 00008: val_acc did not improve from 0.98984\n",
      "Epoch 9/50\n",
      " - 4s - loss: 0.0401 - acc: 0.9892 - val_loss: 0.0568 - val_acc: 0.9898\n",
      "\n",
      "Epoch 00009: val_acc did not improve from 0.98984\n",
      "Epoch 10/50\n",
      " - 4s - loss: 0.0507 - acc: 0.9858 - val_loss: 0.0634 - val_acc: 0.9837\n",
      "\n",
      "Epoch 00010: val_acc did not improve from 0.98984\n",
      "Epoch 11/50\n",
      " - 4s - loss: 0.0406 - acc: 0.9868 - val_loss: 0.0537 - val_acc: 0.9919\n",
      "\n",
      "Epoch 00011: val_acc improved from 0.98984 to 0.99187, saving model to ../Experiments/weights_331841.hdf5\n",
      "Epoch 12/50\n",
      " - 4s - loss: 0.0415 - acc: 0.9861 - val_loss: 0.1461 - val_acc: 0.9465\n",
      "\n",
      "Epoch 00012: val_acc did not improve from 0.99187\n",
      "Epoch 13/50\n",
      " - 4s - loss: 0.0397 - acc: 0.9890 - val_loss: 0.0407 - val_acc: 0.9871\n",
      "\n",
      "Epoch 00013: val_acc did not improve from 0.99187\n",
      "Epoch 14/50\n",
      " - 4s - loss: 0.0397 - acc: 0.9888 - val_loss: 0.0842 - val_acc: 0.9783\n",
      "\n",
      "Epoch 00014: val_acc did not improve from 0.99187\n",
      "Epoch 15/50\n",
      " - 4s - loss: 0.0434 - acc: 0.9871 - val_loss: 0.0506 - val_acc: 0.9844\n",
      "\n",
      "Epoch 00015: val_acc did not improve from 0.99187\n",
      "Epoch 16/50\n",
      " - 4s - loss: 0.0259 - acc: 0.9934 - val_loss: 0.0610 - val_acc: 0.9770\n",
      "\n",
      "Epoch 00016: val_acc did not improve from 0.99187\n",
      "Epoch 17/50\n",
      " - 4s - loss: 0.0352 - acc: 0.9893 - val_loss: 0.1039 - val_acc: 0.9607\n",
      "\n",
      "Epoch 00017: val_acc did not improve from 0.99187\n",
      "Epoch 18/50\n",
      " - 4s - loss: 0.0398 - acc: 0.9892 - val_loss: 0.1174 - val_acc: 0.9444\n",
      "\n",
      "Epoch 00018: val_acc did not improve from 0.99187\n",
      "Epoch 19/50\n",
      " - 4s - loss: 0.0225 - acc: 0.9939 - val_loss: 0.0510 - val_acc: 0.9864\n",
      "\n",
      "Epoch 00019: val_acc did not improve from 0.99187\n",
      "Epoch 20/50\n",
      " - 4s - loss: 0.0229 - acc: 0.9939 - val_loss: 0.0258 - val_acc: 0.9986\n",
      "\n",
      "Epoch 00020: val_acc improved from 0.99187 to 0.99864, saving model to ../Experiments/weights_331841.hdf5\n",
      "Epoch 21/50\n",
      " - 4s - loss: 0.0243 - acc: 0.9929 - val_loss: 0.0386 - val_acc: 0.9844\n",
      "\n",
      "Epoch 00021: val_acc did not improve from 0.99864\n",
      "Epoch 22/50\n",
      " - 4s - loss: 0.0272 - acc: 0.9942 - val_loss: 0.0427 - val_acc: 0.9885\n",
      "\n",
      "Epoch 00022: val_acc did not improve from 0.99864\n",
      "Epoch 23/50\n",
      " - 4s - loss: 0.0300 - acc: 0.9927 - val_loss: 0.1030 - val_acc: 0.9627\n",
      "\n",
      "Epoch 00023: val_acc did not improve from 0.99864\n",
      "Epoch 24/50\n",
      " - 4s - loss: 0.0324 - acc: 0.9937 - val_loss: 0.0321 - val_acc: 0.9898\n",
      "\n",
      "Epoch 00024: val_acc did not improve from 0.99864\n",
      "Epoch 25/50\n",
      " - 4s - loss: 0.0149 - acc: 0.9953 - val_loss: 0.0527 - val_acc: 0.9844\n",
      "\n",
      "Epoch 00025: val_acc did not improve from 0.99864\n",
      "Epoch 26/50\n",
      " - 4s - loss: 0.0125 - acc: 0.9958 - val_loss: 0.0519 - val_acc: 0.9817\n",
      "\n",
      "Epoch 00026: val_acc did not improve from 0.99864\n",
      "Epoch 27/50\n",
      " - 4s - loss: 0.0442 - acc: 0.9892 - val_loss: 0.0786 - val_acc: 0.9661\n",
      "\n",
      "Epoch 00027: val_acc did not improve from 0.99864\n",
      "Epoch 28/50\n",
      " - 4s - loss: 0.0201 - acc: 0.9961 - val_loss: 0.0938 - val_acc: 0.9621\n",
      "\n",
      "Epoch 00028: val_acc did not improve from 0.99864\n",
      "Epoch 29/50\n",
      " - 4s - loss: 0.0165 - acc: 0.9963 - val_loss: 0.0311 - val_acc: 0.9885\n",
      "\n",
      "Epoch 00029: val_acc did not improve from 0.99864\n",
      "Epoch 30/50\n",
      " - 4s - loss: 0.0187 - acc: 0.9939 - val_loss: 0.0375 - val_acc: 0.9858\n",
      "\n",
      "Epoch 00030: val_acc did not improve from 0.99864\n",
      "Epoch 31/50\n",
      " - 4s - loss: 0.0121 - acc: 0.9970 - val_loss: 0.0525 - val_acc: 0.9790\n",
      "\n",
      "Epoch 00031: val_acc did not improve from 0.99864\n",
      "Epoch 32/50\n",
      " - 4s - loss: 0.0315 - acc: 0.9907 - val_loss: 0.0864 - val_acc: 0.9607\n",
      "\n",
      "Epoch 00032: val_acc did not improve from 0.99864\n",
      "Epoch 33/50\n",
      " - 4s - loss: 0.0310 - acc: 0.9914 - val_loss: 0.0210 - val_acc: 0.9966\n",
      "\n",
      "Epoch 00033: val_acc did not improve from 0.99864\n",
      "Epoch 34/50\n",
      " - 4s - loss: 0.0158 - acc: 0.9956 - val_loss: 0.0196 - val_acc: 0.9912\n",
      "\n",
      "Epoch 00034: val_acc did not improve from 0.99864\n",
      "Epoch 35/50\n",
      " - 4s - loss: 0.0142 - acc: 0.9953 - val_loss: 0.0301 - val_acc: 0.9892\n",
      "\n",
      "Epoch 00035: val_acc did not improve from 0.99864\n",
      "Epoch 36/50\n",
      " - 4s - loss: 0.0209 - acc: 0.9946 - val_loss: 0.0224 - val_acc: 0.9946\n",
      "\n",
      "Epoch 00036: val_acc did not improve from 0.99864\n",
      "Epoch 37/50\n",
      " - 4s - loss: 0.0189 - acc: 0.9963 - val_loss: 0.0684 - val_acc: 0.9783\n",
      "\n",
      "Epoch 00037: val_acc did not improve from 0.99864\n",
      "Epoch 38/50\n",
      " - 4s - loss: 0.0141 - acc: 0.9968 - val_loss: 0.0182 - val_acc: 0.9932\n",
      "\n",
      "Epoch 00038: val_acc did not improve from 0.99864\n",
      "Epoch 39/50\n",
      " - 4s - loss: 0.0254 - acc: 0.9934 - val_loss: 0.0266 - val_acc: 0.9912\n",
      "\n",
      "Epoch 00039: val_acc did not improve from 0.99864\n",
      "Epoch 40/50\n",
      " - 4s - loss: 0.0124 - acc: 0.9975 - val_loss: 0.0269 - val_acc: 0.9925\n",
      "\n",
      "Epoch 00040: val_acc did not improve from 0.99864\n",
      "Epoch 41/50\n",
      " - 4s - loss: 0.0131 - acc: 0.9961 - val_loss: 0.0377 - val_acc: 0.9885\n",
      "\n",
      "Epoch 00041: val_acc did not improve from 0.99864\n",
      "Epoch 42/50\n"
     ]
    },
    {
     "name": "stdout",
     "output_type": "stream",
     "text": [
      " - 4s - loss: 0.0052 - acc: 0.9981 - val_loss: 0.0200 - val_acc: 0.9932\n",
      "\n",
      "Epoch 00042: val_acc did not improve from 0.99864\n",
      "Epoch 43/50\n",
      " - 4s - loss: 0.0257 - acc: 0.9947 - val_loss: 0.0356 - val_acc: 0.9864\n",
      "\n",
      "Epoch 00043: val_acc did not improve from 0.99864\n",
      "Epoch 44/50\n",
      " - 4s - loss: 0.0363 - acc: 0.9905 - val_loss: 0.0479 - val_acc: 0.9851\n",
      "\n",
      "Epoch 00044: val_acc did not improve from 0.99864\n",
      "Epoch 45/50\n",
      " - 4s - loss: 0.0160 - acc: 0.9963 - val_loss: 0.0330 - val_acc: 0.9912\n",
      "\n",
      "Epoch 00045: val_acc did not improve from 0.99864\n",
      "Epoch 46/50\n",
      " - 4s - loss: 0.0227 - acc: 0.9934 - val_loss: 0.0269 - val_acc: 0.9939\n",
      "\n",
      "Epoch 00046: val_acc did not improve from 0.99864\n",
      "Epoch 47/50\n",
      " - 4s - loss: 0.0151 - acc: 0.9959 - val_loss: 0.0509 - val_acc: 0.9817\n",
      "\n",
      "Epoch 00047: val_acc did not improve from 0.99864\n",
      "Epoch 48/50\n",
      " - 4s - loss: 0.0154 - acc: 0.9949 - val_loss: 0.0419 - val_acc: 0.9844\n",
      "\n",
      "Epoch 00048: val_acc did not improve from 0.99864\n",
      "Epoch 49/50\n",
      " - 4s - loss: 0.0224 - acc: 0.9954 - val_loss: 0.0162 - val_acc: 0.9953\n",
      "\n",
      "Epoch 00049: val_acc did not improve from 0.99864\n",
      "Epoch 50/50\n",
      " - 4s - loss: 0.0124 - acc: 0.9970 - val_loss: 0.0730 - val_acc: 0.9695\n",
      "\n",
      "Epoch 00050: val_acc did not improve from 0.99864\n",
      "0.9983062330623306\n",
      "0.9986449864498645\n",
      "Normalized confusion matrix\n",
      "[[1. 0.]\n",
      " [0. 1.]]\n"
     ]
    },
    {
     "data": {
      "text/plain": [
       "<Figure size 432x288 with 0 Axes>"
      ]
     },
     "metadata": {},
     "output_type": "display_data"
    },
    {
     "data": {
      "image/png": "[encoded data removed]",
      "text/plain": [
       "<Figure size 432x288 with 2 Axes>"
      ]
     },
     "metadata": {
      "needs_background": "light"
     },
     "output_type": "display_data"
    },
    {
     "name": "stdout",
     "output_type": "stream",
     "text": [
      "Iteration 0 ended...\n",
      "Results saved to:\n",
      "../Experiments/train_test_performance_331841.txt\n",
      "-------------------\n"
     ]
    }
   ],
   "source": [
    "train_model(number_iterations, X, Y)"
   ]
  },
  {
   "cell_type": "code",
   "execution_count": null,
   "metadata": {},
   "outputs": [],
   "source": []
  }
 ],
 "metadata": {
  "kernelspec": {
   "display_name": "Python 3",
   "language": "python",
   "name": "python3"
  },
  "language_info": {
   "codemirror_mode": {
    "name": "ipython",
    "version": 3
   },
   "file_extension": ".py",
   "mimetype": "text/x-python",
   "name": "python",
   "nbconvert_exporter": "python",
   "pygments_lexer": "ipython3",
   "version": "3.6.1"
  }
 },
 "nbformat": 4,
 "nbformat_minor": 2
}
