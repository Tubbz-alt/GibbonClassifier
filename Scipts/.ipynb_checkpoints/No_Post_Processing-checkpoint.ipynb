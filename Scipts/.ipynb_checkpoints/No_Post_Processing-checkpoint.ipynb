{
 "cells": [
  {
   "cell_type": "markdown",
   "metadata": {},
   "source": [
    "# No Post Processing Heuristic\n",
    "\n",
    "**Paper:** Automatic identification of Hainan Gibbon calls in passive acoustic recordings\n",
    "\n",
    "**Authors:** Emmanuel Dufourq, Ian Durbach, James Hansford, Sam Turvey, Amanda Hoepfner\n",
    "\n",
    "**Year:** March 2020\n",
    "\n",
    "**Repository:** https://github.com/emmanueldufourq/GibbonClassifier\n",
    "\n",
    "Apply the post processing heuristic to the output of a CNN model on some audio file.\n",
    "\n",
    "The 'Prediction' notebook has to be applied to some audio file first then the post processing heuristic can be applied. This script will access the 'binary_prediction.txt' file which is obtained when executing the 'Prediction' notebook. Place the names of the files which require processing in the 'files' array, for example ['file1', 'file2', 'file3'].\n",
    "\n",
    "This notebook will produce one output file ending with 'no _post _processing _heuristic.txt'. The units represent the starting time of predicted calls in seconds.\n",
    "\n",
    "The correct components for the audio file 'HGSM3B_0+1_20160308_055700' are as follows:\n",
    "\n",
    "[3667, 3803]\n",
    "\n",
    "[14750, 14963]\n",
    "\n",
    "[19548, 20265]\n",
    "\n",
    "[20524, 20863]"
   ]
  },
  {
   "cell_type": "code",
   "execution_count": 1,
   "metadata": {},
   "outputs": [],
   "source": [
    "import numpy as np\n",
    "from Post_Processing_Helper import no_heuristic"
   ]
  },
  {
   "cell_type": "code",
   "execution_count": 2,
   "metadata": {},
   "outputs": [],
   "source": [
    "files = ['HGSM3B_0+1_20160308_055700']"
   ]
  },
  {
   "cell_type": "code",
   "execution_count": 3,
   "metadata": {},
   "outputs": [],
   "source": [
    "location = '../Predictions/'"
   ]
  },
  {
   "cell_type": "code",
   "execution_count": 4,
   "metadata": {},
   "outputs": [
    {
     "name": "stdout",
     "output_type": "stream",
     "text": [
      "Saved post-processing in location: /Predictions/HGSM3B_0+1_20160308_055700_post_processing_no_heuristic.txt\n",
      "\n"
     ]
    }
   ],
   "source": [
    "no_heuristic(files, location)"
   ]
  },
  {
   "cell_type": "code",
   "execution_count": null,
   "metadata": {},
   "outputs": [],
   "source": []
  }
 ],
 "metadata": {
  "kernelspec": {
   "display_name": "Python 3",
   "language": "python",
   "name": "python3"
  },
  "language_info": {
   "codemirror_mode": {
    "name": "ipython",
    "version": 3
   },
   "file_extension": ".py",
   "mimetype": "text/x-python",
   "name": "python",
   "nbconvert_exporter": "python",
   "pygments_lexer": "ipython3",
   "version": "3.6.1"
  }
 },
 "nbformat": 4,
 "nbformat_minor": 2
}
