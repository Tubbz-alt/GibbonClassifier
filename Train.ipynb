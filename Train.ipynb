{
 "cells": [
  {
   "cell_type": "markdown",
   "metadata": {},
   "source": [
    "# Training\n",
    "\n",
    "**Paper:** Automatic identification of Hainan Gibbon calls in passive acoustic recordings\n",
    "\n",
    "**Authors:** Emmanuel Dufourq, Ian Durbach, James Hansford, Sam Turvey, Amanda Hoepfner\n",
    "\n",
    "**Code Date:** April 2020\n",
    "\n",
    "**Repository:** https://github.com/emmanueldufourq/GibbonClassifier\n",
    "\n",
    "**Notebook description:** Train a CNN on the augmented spectrogram images.\n",
    "\n",
    "_Please refer to the user manual for further details of the operations being executed in this notebook._\n",
    "\n",
    "<hr>\n",
    "\n",
    "**Note 1: Set colab=True if executing on Google Colab, or set colab=False if running locally.**\n",
    "\n",
    "**Note 2: When running on Google Colab, please select Kernel > ...........**\n",
    "\n"
   ]
  },
  {
   "cell_type": "code",
   "execution_count": null,
   "metadata": {},
   "outputs": [],
   "source": [
    "colab = False"
   ]
  },
  {
   "cell_type": "code",
   "execution_count": null,
   "metadata": {},
   "outputs": [],
   "source": [
    "if colab:\n",
    "    !pip install SoundFile\n",
    "    from google.colab import drive\n",
    "    from pydrive.auth import GoogleAuth\n",
    "    from pydrive.drive import GoogleDrive\n",
    "    from google.colab import auth\n",
    "    from oauth2client.client import GoogleCredentials\n",
    "    import tarfile\n",
    "\n",
    "    # Google Authentication\n",
    "    auth.authenticate_user()\n",
    "    gauth = GoogleAuth()\n",
    "    gauth.credentials = GoogleCredentials.get_application_default()\n",
    "    drive = GoogleDrive(gauth)\n",
    "\n",
    "    # Download data files\n",
    "    downloaded = drive.CreateFile({'id':\"1u7orJHwGOMIcyqwiiEl2e7KEZpnT_0h7\"})\n",
    "    downloaded.GetContentFile('GibbonClassifierData.tar.gz')\n",
    "\n",
    "    # Extract files to temporary location in Google Drive\n",
    "    with tarfile.open('GibbonClassifierData.tar.gz', 'r:gz') as tar:\n",
    "        tar.extractall()"
   ]
  },
  {
   "cell_type": "code",
   "execution_count": null,
   "metadata": {
    "scrolled": true
   },
   "outputs": [],
   "source": [
    "from Train_Helper import *"
   ]
  },
  {
   "cell_type": "markdown",
   "metadata": {},
   "source": [
    "## Parameters"
   ]
  },
  {
   "cell_type": "code",
   "execution_count": null,
   "metadata": {},
   "outputs": [],
   "source": [
    "audio_directory = 'Raw_Data/Train/'\n",
    "timestamp_directory = 'Call_Labels/'\n",
    "save_location = 'Pickled_Data/'\n",
    "augment_directory = 'Augmented_Data/'\n",
    "augment_image_directory = 'Augmented_Image_Data/'\n",
    "training_file = 'Training_Files.txt'\n",
    "\n",
    "sample_rate = 4800\n",
    "number_seconds_to_extract = 10\n",
    "seed = 42\n",
    "number_iterations = 1\n",
    "augmentation_probability = 1.0\n",
    "augmentation_amount_noise = 2\n",
    "augmentation_amount_gibbon = 10"
   ]
  },
  {
   "cell_type": "markdown",
   "metadata": {},
   "source": [
    "## Extract segments, preprocessing and augment all training files"
   ]
  },
  {
   "cell_type": "code",
   "execution_count": null,
   "metadata": {},
   "outputs": [],
   "source": [
    "execute_preprocessing_all_files(training_file, audio_directory, \n",
    "                            sample_rate, timestamp_directory,\n",
    "                            number_seconds_to_extract, save_location,\n",
    "                            augmentation_amount_noise, augmentation_probability, \n",
    "                            augmentation_amount_gibbon, seed, augment_directory, augment_image_directory,\n",
    "                            number_iterations)"
   ]
  },
  {
   "cell_type": "markdown",
   "metadata": {},
   "source": [
    "## Begin training"
   ]
  },
  {
   "cell_type": "code",
   "execution_count": null,
   "metadata": {
    "scrolled": false
   },
   "outputs": [],
   "source": [
    "train_model(number_iterations, augment_image_directory, training_file)"
   ]
  },
  {
   "cell_type": "code",
   "execution_count": null,
   "metadata": {},
   "outputs": [],
   "source": []
  }
 ],
 "metadata": {
  "kernelspec": {
   "display_name": "Python 3",
   "language": "python",
   "name": "python3"
  },
  "language_info": {
   "codemirror_mode": {
    "name": "ipython",
    "version": 3
   },
   "file_extension": ".py",
   "mimetype": "text/x-python",
   "name": "python",
   "nbconvert_exporter": "python",
   "pygments_lexer": "ipython3",
   "version": "3.6.1"
  }
 },
 "nbformat": 4,
 "nbformat_minor": 2
}
